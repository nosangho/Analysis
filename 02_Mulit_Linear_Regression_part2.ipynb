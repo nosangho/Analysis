{
 "cells": [
  {
   "cell_type": "code",
   "execution_count": 16,
   "metadata": {
    "collapsed": false
   },
   "outputs": [],
   "source": [
    "import os\n",
    "import pandas as pd\n",
    "import numpy as np\n",
    "import statsmodels.api as sm\n",
    "import statsmodels.formula.api as smf\n",
    "import matplotlib.pyplot as plt"
   ]
  },
  {
   "cell_type": "code",
   "execution_count": 3,
   "metadata": {
    "collapsed": false
   },
   "outputs": [
    {
     "data": {
      "text/html": [
       "<div>\n",
       "<style scoped>\n",
       "    .dataframe tbody tr th:only-of-type {\n",
       "        vertical-align: middle;\n",
       "    }\n",
       "\n",
       "    .dataframe tbody tr th {\n",
       "        vertical-align: top;\n",
       "    }\n",
       "\n",
       "    .dataframe thead th {\n",
       "        text-align: right;\n",
       "    }\n",
       "</style>\n",
       "<table border=\"1\" class=\"dataframe\">\n",
       "  <thead>\n",
       "    <tr style=\"text-align: right;\">\n",
       "      <th></th>\n",
       "      <th>AGE</th>\n",
       "      <th>B</th>\n",
       "      <th>RM</th>\n",
       "      <th>CRIM</th>\n",
       "      <th>DIS</th>\n",
       "      <th>INDUS</th>\n",
       "      <th>LSTAT</th>\n",
       "      <th>NOX</th>\n",
       "      <th>PTRATIO</th>\n",
       "      <th>RAD</th>\n",
       "      <th>ZN</th>\n",
       "      <th>TAX</th>\n",
       "      <th>CHAS</th>\n",
       "      <th>Target</th>\n",
       "    </tr>\n",
       "  </thead>\n",
       "  <tbody>\n",
       "    <tr>\n",
       "      <th>0</th>\n",
       "      <td>65.2</td>\n",
       "      <td>396.90</td>\n",
       "      <td>6.575</td>\n",
       "      <td>0.00632</td>\n",
       "      <td>4.0900</td>\n",
       "      <td>2.31</td>\n",
       "      <td>4.98</td>\n",
       "      <td>0.538</td>\n",
       "      <td>15.3</td>\n",
       "      <td>1</td>\n",
       "      <td>18.0</td>\n",
       "      <td>296</td>\n",
       "      <td>0</td>\n",
       "      <td>24.0</td>\n",
       "    </tr>\n",
       "    <tr>\n",
       "      <th>1</th>\n",
       "      <td>78.9</td>\n",
       "      <td>396.90</td>\n",
       "      <td>6.421</td>\n",
       "      <td>0.02731</td>\n",
       "      <td>4.9671</td>\n",
       "      <td>7.07</td>\n",
       "      <td>9.14</td>\n",
       "      <td>0.469</td>\n",
       "      <td>17.8</td>\n",
       "      <td>2</td>\n",
       "      <td>0.0</td>\n",
       "      <td>242</td>\n",
       "      <td>0</td>\n",
       "      <td>21.6</td>\n",
       "    </tr>\n",
       "    <tr>\n",
       "      <th>2</th>\n",
       "      <td>61.1</td>\n",
       "      <td>392.83</td>\n",
       "      <td>7.185</td>\n",
       "      <td>0.02729</td>\n",
       "      <td>4.9671</td>\n",
       "      <td>7.07</td>\n",
       "      <td>4.03</td>\n",
       "      <td>0.469</td>\n",
       "      <td>17.8</td>\n",
       "      <td>2</td>\n",
       "      <td>0.0</td>\n",
       "      <td>242</td>\n",
       "      <td>0</td>\n",
       "      <td>34.7</td>\n",
       "    </tr>\n",
       "  </tbody>\n",
       "</table>\n",
       "</div>"
      ],
      "text/plain": [
       "    AGE       B     RM     CRIM     DIS  INDUS  LSTAT    NOX  PTRATIO  RAD  \\\n",
       "0  65.2  396.90  6.575  0.00632  4.0900   2.31   4.98  0.538     15.3    1   \n",
       "1  78.9  396.90  6.421  0.02731  4.9671   7.07   9.14  0.469     17.8    2   \n",
       "2  61.1  392.83  7.185  0.02729  4.9671   7.07   4.03  0.469     17.8    2   \n",
       "\n",
       "     ZN  TAX  CHAS  Target  \n",
       "0  18.0  296     0    24.0  \n",
       "1   0.0  242     0    21.6  \n",
       "2   0.0  242     0    34.7  "
      ]
     },
     "execution_count": 3,
     "metadata": {},
     "output_type": "execute_result"
    }
   ],
   "source": [
    "# 데이터 로드\n",
    "df = pd.read_csv('./Boston_house.csv')\n",
    "df.head(3)"
   ]
  },
  {
   "cell_type": "code",
   "execution_count": 4,
   "metadata": {
    "collapsed": true
   },
   "outputs": [],
   "source": [
    "# 상관성이 있어보이는 몇개의 변수로 일단 test형 다중회귀분석을 돌려보자\n",
    "X1 = df[['CRIM', 'RM', 'LSTAT']]\n",
    "y = df[['Target']]"
   ]
  },
  {
   "cell_type": "code",
   "execution_count": 5,
   "metadata": {
    "collapsed": true
   },
   "outputs": [],
   "source": [
    "X1 = sm.add_constant(X1, has_constant='add')"
   ]
  },
  {
   "cell_type": "code",
   "execution_count": 6,
   "metadata": {
    "collapsed": false
   },
   "outputs": [
    {
     "name": "stdout",
     "output_type": "stream",
     "text": [
      "                            OLS Regression Results                            \n",
      "==============================================================================\n",
      "Dep. Variable:                 Target   R-squared:                       0.646\n",
      "Model:                            OLS   Adj. R-squared:                  0.644\n",
      "Method:                 Least Squares   F-statistic:                     305.2\n",
      "Date:                Tue, 24 Sep 2019   Prob (F-statistic):          1.01e-112\n",
      "Time:                        05:19:18   Log-Likelihood:                -1577.6\n",
      "No. Observations:                 506   AIC:                             3163.\n",
      "Df Residuals:                     502   BIC:                             3180.\n",
      "Df Model:                           3                                         \n",
      "Covariance Type:            nonrobust                                         \n",
      "==============================================================================\n",
      "                 coef    std err          t      P>|t|      [0.025      0.975]\n",
      "------------------------------------------------------------------------------\n",
      "const         -2.5623      3.166     -0.809      0.419      -8.783       3.658\n",
      "CRIM          -0.1029      0.032     -3.215      0.001      -0.166      -0.040\n",
      "RM             5.2170      0.442     11.802      0.000       4.348       6.085\n",
      "LSTAT         -0.5785      0.048    -12.135      0.000      -0.672      -0.485\n",
      "==============================================================================\n",
      "Omnibus:                      171.754   Durbin-Watson:                   0.822\n",
      "Prob(Omnibus):                  0.000   Jarque-Bera (JB):              628.308\n",
      "Skew:                           1.535   Prob(JB):                    3.67e-137\n",
      "Kurtosis:                       7.514   Cond. No.                         216.\n",
      "==============================================================================\n",
      "\n",
      "Warnings:\n",
      "[1] Standard Errors assume that the covariance matrix of the errors is correctly specified.\n"
     ]
    }
   ],
   "source": [
    "model1 = sm.OLS(y, X1)\n",
    "results1 = model1.fit()\n",
    "print(results1.summary())"
   ]
  },
  {
   "cell_type": "code",
   "execution_count": 7,
   "metadata": {
    "collapsed": true
   },
   "outputs": [],
   "source": [
    "# 더 많은 변수를 써서 분석해보자\n",
    "X2 = df[['CRIM','RM','LSTAT','B','TAX','AGE','ZN','NOX','INDUS']]\n",
    "y = df[['Target']]"
   ]
  },
  {
   "cell_type": "code",
   "execution_count": 8,
   "metadata": {
    "collapsed": true
   },
   "outputs": [],
   "source": [
    "X2 = sm.add_constant(X2, has_constant='add')"
   ]
  },
  {
   "cell_type": "code",
   "execution_count": 13,
   "metadata": {
    "collapsed": false
   },
   "outputs": [
    {
     "name": "stdout",
     "output_type": "stream",
     "text": [
      "                            OLS Regression Results                            \n",
      "==============================================================================\n",
      "Dep. Variable:                 Target   R-squared:                       0.662\n",
      "Model:                            OLS   Adj. R-squared:                  0.656\n",
      "Method:                 Least Squares   F-statistic:                     108.1\n",
      "Date:                Tue, 24 Sep 2019   Prob (F-statistic):          5.76e-111\n",
      "Time:                        05:22:52   Log-Likelihood:                -1565.5\n",
      "No. Observations:                 506   AIC:                             3151.\n",
      "Df Residuals:                     496   BIC:                             3193.\n",
      "Df Model:                           9                                         \n",
      "Covariance Type:            nonrobust                                         \n",
      "==============================================================================\n",
      "                 coef    std err          t      P>|t|      [0.025      0.975]\n",
      "------------------------------------------------------------------------------\n",
      "const         -7.1088      3.828     -1.857      0.064     -14.631       0.413\n",
      "CRIM          -0.0453      0.036     -1.269      0.205      -0.115       0.025\n",
      "RM             5.0922      0.458     11.109      0.000       4.192       5.993\n",
      "LSTAT         -0.5651      0.057     -9.854      0.000      -0.678      -0.452\n",
      "B              0.0090      0.003      2.952      0.003       0.003       0.015\n",
      "TAX           -0.0060      0.002     -2.480      0.013      -0.011      -0.001\n",
      "AGE            0.0236      0.014      1.653      0.099      -0.004       0.052\n",
      "ZN             0.0294      0.013      2.198      0.028       0.003       0.056\n",
      "NOX            3.4838      3.833      0.909      0.364      -4.047      11.014\n",
      "INDUS          0.0293      0.065      0.449      0.654      -0.099       0.157\n",
      "==============================================================================\n",
      "Omnibus:                      195.490   Durbin-Watson:                   0.848\n",
      "Prob(Omnibus):                  0.000   Jarque-Bera (JB):              872.873\n",
      "Skew:                           1.686   Prob(JB):                    2.87e-190\n",
      "Kurtosis:                       8.479   Cond. No.                     1.04e+04\n",
      "==============================================================================\n",
      "\n",
      "Warnings:\n",
      "[1] Standard Errors assume that the covariance matrix of the errors is correctly specified.\n",
      "[2] The condition number is large, 1.04e+04. This might indicate that there are\n",
      "strong multicollinearity or other numerical problems.\n"
     ]
    }
   ],
   "source": [
    "model2 = sm.OLS(y, X2)\n",
    "results2 = model2.fit()\n",
    "print(results2.summary())\n",
    "# R-squred는 소폭 상승했으나 P-value가 유의미하지 않은 변수도 있으며 변수간 다중공선성 문제도 확인이 필요"
   ]
  },
  {
   "cell_type": "code",
   "execution_count": 12,
   "metadata": {
    "collapsed": false
   },
   "outputs": [
    {
     "data": {
      "text/plain": [
       "const   -2.562251\n",
       "CRIM    -0.102941\n",
       "RM       5.216955\n",
       "LSTAT   -0.578486\n",
       "dtype: float64"
      ]
     },
     "execution_count": 12,
     "metadata": {},
     "output_type": "execute_result"
    }
   ],
   "source": [
    "# 첫번째 모델과 두번째 모델의 파라미터 비교\n",
    "# 변수를 더 많이 넣고 돌린 두번째 모델에서 각 변수들의 설명력이 소폭 하락한 것을 볼 수 있음\n",
    "results1.params"
   ]
  },
  {
   "cell_type": "code",
   "execution_count": 14,
   "metadata": {
    "collapsed": false
   },
   "outputs": [
    {
     "data": {
      "text/plain": [
       "const   -7.108827\n",
       "CRIM    -0.045293\n",
       "RM       5.092238\n",
       "LSTAT   -0.565133\n",
       "B        0.008974\n",
       "TAX     -0.006025\n",
       "AGE      0.023619\n",
       "ZN       0.029377\n",
       "NOX      3.483832\n",
       "INDUS    0.029270\n",
       "dtype: float64"
      ]
     },
     "execution_count": 14,
     "metadata": {},
     "output_type": "execute_result"
    }
   ],
   "source": [
    "results2.params"
   ]
  },
  {
   "cell_type": "code",
   "execution_count": 19,
   "metadata": {
    "collapsed": false
   },
   "outputs": [
    {
     "data": {
      "text/plain": [
       "<matplotlib.legend.Legend at 0x1c163cdeb8>"
      ]
     },
     "execution_count": 19,
     "metadata": {},
     "output_type": "execute_result"
    },
    {
     "data": {
      "image/png": "[encoded data removed]",
      "text/plain": [
       "<matplotlib.figure.Figure at 0x1c163d07b8>"
      ]
     },
     "metadata": {},
     "output_type": "display_data"
    }
   ],
   "source": [
    "# 각 모델의 잔차 분포가 바뀌였는데 시각적으로 확인\n",
    "results1.resid.plot(label='model_1')\n",
    "results2.resid.plot(label='model_2')\n",
    "plt.legend()\n",
    "# 3개 변수를 쓴 모델1보다 더 많은 변수를 사용한 모델2에서 잔차가 소폭 감소한 것을 볼 수 있음"
   ]
  },
  {
   "cell_type": "code",
   "execution_count": null,
   "metadata": {
    "collapsed": true
   },
   "outputs": [],
   "source": []
  }
 ],
 "metadata": {
  "kernelspec": {
   "display_name": "Python 3",
   "language": "python",
   "name": "python3"
  },
  "language_info": {
   "codemirror_mode": {
    "name": "ipython",
    "version": 3
   },
   "file_extension": ".py",
   "mimetype": "text/x-python",
   "name": "python",
   "nbconvert_exporter": "python",
   "pygments_lexer": "ipython3",
   "version": "3.6.4"
  }
 },
 "nbformat": 4,
 "nbformat_minor": 2
}
